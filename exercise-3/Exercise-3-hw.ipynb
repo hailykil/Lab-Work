{
 "cells": [
  {
   "cell_type": "code",
   "execution_count": 5,
   "metadata": {
    "collapsed": false
   },
   "outputs": [],
   "source": [
    "a = 3\n",
    "b = 17\n",
    "c = a + b\n",
    "favorite_animal = \"cat\"\n",
    "favorite_dinners = [\"sushi\", \"pasta\", \"salad\"]\n",
    "num_fav_dinners = len (favorite_dinners)"
   ]
  },
  {
   "cell_type": "code",
   "execution_count": 6,
   "metadata": {
    "collapsed": true
   },
   "outputs": [],
   "source": [
    "def hw3_function(integer):\n",
    "    if integer<5:\n",
    "        print (\"Brr! It's cold!\")\n",
    "    elif integer>25:\n",
    "        print (\"It's pretty warm!\")\n",
    "    elif 5<integer<25:\n",
    "        print (\"What a pleasant temperature!\")\n",
    "    else:\n",
    "        print (\"Error!\")"
   ]
  },
  {
   "cell_type": "code",
   "execution_count": 10,
   "metadata": {
    "collapsed": false
   },
   "outputs": [
    {
     "name": "stdout",
     "output_type": "stream",
     "text": [
      "Brr! It's cold!\n"
     ]
    }
   ],
   "source": [
    "hw3_function(3)"
   ]
  },
  {
   "cell_type": "code",
   "execution_count": 12,
   "metadata": {
    "collapsed": false
   },
   "outputs": [
    {
     "name": "stdout",
     "output_type": "stream",
     "text": [
      "It's pretty warm!\n"
     ]
    }
   ],
   "source": [
    "hw3_function(27)"
   ]
  },
  {
   "cell_type": "code",
   "execution_count": 14,
   "metadata": {
    "collapsed": false
   },
   "outputs": [
    {
     "name": "stdout",
     "output_type": "stream",
     "text": [
      "What a pleasant temperature!\n"
     ]
    }
   ],
   "source": [
    "hw3_function(15)"
   ]
  },
  {
   "cell_type": "code",
   "execution_count": 19,
   "metadata": {
    "collapsed": false
   },
   "outputs": [
    {
     "name": "stdout",
     "output_type": "stream",
     "text": [
      "Error!\n"
     ]
    }
   ],
   "source": [
    "hw3_function(25)"
   ]
  },
  {
   "cell_type": "code",
   "execution_count": 25,
   "metadata": {
    "collapsed": false
   },
   "outputs": [
    {
     "name": "stdout",
     "output_type": "stream",
     "text": [
      "['TA', 'T', 'TA', 'C', 'G', 'GA', 'G', 'C', 'T', 'TA', 'T', 'TA']\n"
     ]
    }
   ],
   "source": [
    "import re\n",
    "dna = \"ATAATTAACGGAGCTTATTA\"\n",
    "print(re.findall(pattern=\"GA|TA|TGA|T|G|C\", string=dna))"
   ]
  },
  {
   "cell_type": "code",
   "execution_count": null,
   "metadata": {
    "collapsed": false
   },
   "outputs": [],
   "source": [
    "import random\n",
    "def rps():\n",
    "    print(\"You are playing Rock Paper Scissors\")\n",
    "    comp_possible = 1,2,3\n",
    "    score = [0,0]\n",
    "    flag = 0\n",
    "    while True:\n",
    "        print (\"Enter your choice:\")\n",
    "        while True:\n",
    "            choice = input('->')\n",
    "            if choice == 'Rock':\n",
    "                choice_identifier = 1\n",
    "                break\n",
    "            elif choice == 'Scissors':\n",
    "                choice_identifier = 2\n",
    "                break\n",
    "            elif choice == 'Paper':\n",
    "                choice_identifier = 3\n",
    "                break\n",
    "            else:\n",
    "                print('That's not an option in this game!)\n",
    "                print(Try again!)\n",
    "                continue\n",
    "                \n",
    "    comp_choice = random.choice(comp_possible)\n",
    "    if choice_identifier == comp_choice:\n",
    "        print(Tie!)\n",
    "        score[0] = score [0] + 1\n",
    "        score[1] = score[1] + 1\n",
    "    elif ()"
   ]
  }
 ],
 "metadata": {
  "anaconda-cloud": {},
  "kernelspec": {
   "display_name": "Python [default]",
   "language": "python",
   "name": "python3"
  },
  "language_info": {
   "codemirror_mode": {
    "name": "ipython",
    "version": 3
   },
   "file_extension": ".py",
   "mimetype": "text/x-python",
   "name": "python",
   "nbconvert_exporter": "python",
   "pygments_lexer": "ipython3",
   "version": "3.5.2"
  }
 },
 "nbformat": 4,
 "nbformat_minor": 2
}

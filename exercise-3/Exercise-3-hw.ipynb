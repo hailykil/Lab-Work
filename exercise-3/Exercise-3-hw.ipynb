{
 "cells": [
  {
   "cell_type": "code",
   "execution_count": 5,
   "metadata": {
    "collapsed": false
   },
   "outputs": [],
   "source": [
    "a = 3\n",
    "b = 17\n",
    "c = a + b\n",
    "favorite_animal = \"cat\"\n",
    "favorite_dinners = [\"sushi\", \"pasta\", \"salad\"]\n",
    "num_fav_dinners = len (favorite_dinners)"
   ]
  },
  {
   "cell_type": "code",
   "execution_count": 6,
   "metadata": {
    "collapsed": true
   },
   "outputs": [],
   "source": [
    "def hw3_function(integer):\n",
    "    if integer<5:\n",
    "        print (\"Brr! It's cold!\")\n",
    "    elif integer>25:\n",
    "        print (\"It's pretty warm!\")\n",
    "    elif 5<integer<25:\n",
    "        print (\"What a pleasant temperature!\")\n",
    "    else:\n",
    "        print (\"Error!\")"
   ]
  },
  {
   "cell_type": "code",
   "execution_count": 10,
   "metadata": {
    "collapsed": false
   },
   "outputs": [
    {
     "name": "stdout",
     "output_type": "stream",
     "text": [
      "Brr! It's cold!\n"
     ]
    }
   ],
   "source": [
    "hw3_function(3)"
   ]
  },
  {
   "cell_type": "code",
   "execution_count": 12,
   "metadata": {
    "collapsed": false
   },
   "outputs": [
    {
     "name": "stdout",
     "output_type": "stream",
     "text": [
      "It's pretty warm!\n"
     ]
    }
   ],
   "source": [
    "hw3_function(27)"
   ]
  },
  {
   "cell_type": "code",
   "execution_count": 14,
   "metadata": {
    "collapsed": false
   },
   "outputs": [
    {
     "name": "stdout",
     "output_type": "stream",
     "text": [
      "What a pleasant temperature!\n"
     ]
    }
   ],
   "source": [
    "hw3_function(15)"
   ]
  },
  {
   "cell_type": "code",
   "execution_count": 19,
   "metadata": {
    "collapsed": false
   },
   "outputs": [
    {
     "name": "stdout",
     "output_type": "stream",
     "text": [
      "Error!\n"
     ]
    }
   ],
   "source": [
    "hw3_function(25)"
   ]
  },
  {
   "cell_type": "code",
   "execution_count": 25,
   "metadata": {
    "collapsed": false
   },
   "outputs": [
    {
     "name": "stdout",
     "output_type": "stream",
     "text": [
      "['TA', 'T', 'TA', 'C', 'G', 'GA', 'G', 'C', 'T', 'TA', 'T', 'TA']\n"
     ]
    }
   ],
   "source": [
    "import re\n",
    "dna = \"ATAATTAACGGAGCTTATTA\"\n",
    "print(re.findall(pattern=\"GA|TA|TGA|T|G|C\", string=dna))"
   ]
  },
  {
   "cell_type": "code",
   "execution_count": null,
   "metadata": {
    "collapsed": false,
    "scrolled": false
   },
   "outputs": [
    {
     "name": "stdout",
     "output_type": "stream",
     "text": [
      "What is your move: Rock, Paper, or Scissors?Rock\n",
      "The computer chose Scissors\n",
      "Player wins\n",
      "What is your move: Rock, Paper, or Scissors?Paper\n",
      "The computer chose Scissors\n",
      "Computer wins\n",
      "What is your move: Rock, Paper, or Scissors?Paper\n",
      "The computer chose Rock\n",
      "Player wins\n",
      "What is your move: Rock, Paper, or Scissors?\n",
      "The computer chose Paper\n",
      "What is your move: Rock, Paper, or Scissors?\n",
      "The computer chose Rock\n",
      "What is your move: Rock, Paper, or Scissors?\n",
      "The computer chose Rock\n",
      "What is your move: Rock, Paper, or Scissors?\n",
      "The computer chose Paper\n"
     ]
    }
   ],
   "source": [
    "import random\n",
    "moves = [\"Rock\", \"Paper\", \"Scissors\"]\n",
    "keep_playing = \"true\"\n",
    "while keep_playing == \"true\":\n",
    "    cmove = random.choice(moves)\n",
    "    pmove = input(\"What is your move: Rock, Paper, or Scissors?\")\n",
    "    print (\"The computer chose\",cmove)\n",
    "    if cmove == pmove:\n",
    "        print (\"Tie!\")\n",
    "    elif pmove == \"Rock\" and cmove == \"Scissors\":\n",
    "        print (\"Player wins\")\n",
    "    elif pmove == \"Rock\" and cmove == \"Paper\":\n",
    "        print (\"Computer wins\")\n",
    "    elif pmove == \"Rock\" and cmove == \"Rock\":\n",
    "        print (\"Tie!\")\n",
    "    elif pmove == \"Paper\" and cmove == \"Scissors\":\n",
    "        print (\"Computer wins\")\n",
    "    elif pmove == \"Paper\" and cmove == \"Paper\":\n",
    "        print (\"Tie!\")\n",
    "    elif pmove == \"Paper\" and cmove == \"Rock\":\n",
    "        print (\"Player wins\")\n",
    "    elif pmove == \"Scissors\" and cmove == \"Scissors\":\n",
    "        print (\"Tie!\")\n",
    "    elif pmove == \"Scissors\" and cmove == \"Paper\":\n",
    "        print (\"Player wins\")\n",
    "    elif pmove == \"Scissors\" and cmove == \"Rock\":\n",
    "        print (\"Computer wins\")"
   ]
  },
  {
   "cell_type": "code",
   "execution_count": null,
   "metadata": {
    "collapsed": true
   },
   "outputs": [],
   "source": []
  }
 ],
 "metadata": {
  "anaconda-cloud": {},
  "kernelspec": {
   "display_name": "Python [default]",
   "language": "python",
   "name": "python3"
  },
  "language_info": {
   "codemirror_mode": {
    "name": "ipython",
    "version": 3
   },
   "file_extension": ".py",
   "mimetype": "text/x-python",
   "name": "python",
   "nbconvert_exporter": "python",
   "pygments_lexer": "ipython3",
   "version": "3.5.2"
  }
 },
 "nbformat": 4,
 "nbformat_minor": 2
}

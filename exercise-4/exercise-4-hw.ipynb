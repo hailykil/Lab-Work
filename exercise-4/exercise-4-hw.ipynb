{
 "cells": [
  {
   "cell_type": "code",
   "execution_count": 2,
   "metadata": {
    "collapsed": false
   },
   "outputs": [
    {
     "name": "stdout",
     "output_type": "stream",
     "text": [
      "[100, 101, 102, 103, 104, 105, 106, 107, 108, 109, 110]\n"
     ]
    }
   ],
   "source": [
    "list_of_numbers = []\n",
    "for variable in (range(100, 111, 1)):\n",
    "    number = variable\n",
    "    list_of_numbers.append(number)\n",
    "print(list_of_numbers)"
   ]
  },
  {
   "cell_type": "code",
   "execution_count": 3,
   "metadata": {
    "collapsed": false
   },
   "outputs": [
    {
     "name": "stdout",
     "output_type": "stream",
     "text": [
      "[100, 101, 102, 103, 104, 105, 106, 107, 108, 109, 110]\n"
     ]
    }
   ],
   "source": [
    "list_of_numbers = []\n",
    "variable = 100\n",
    "while variable < 111:\n",
    "    number = variable\n",
    "    list_of_numbers.append(variable)\n",
    "    variable = variable + 1\n",
    "print(list_of_numbers)"
   ]
  },
  {
   "cell_type": "code",
   "execution_count": 4,
   "metadata": {
    "collapsed": false
   },
   "outputs": [
    {
     "name": "stdout",
     "output_type": "stream",
     "text": [
      "[100, 121, 144, 169, 196, 225]\n"
     ]
    }
   ],
   "source": [
    "list_of_squares = []\n",
    "number = 10\n",
    "while number < 16:\n",
    "    square = number**2\n",
    "    list_of_squares.append(square)\n",
    "    number = number + 1\n",
    "print(list_of_squares)"
   ]
  },
  {
   "cell_type": "code",
   "execution_count": 7,
   "metadata": {
    "collapsed": false
   },
   "outputs": [
    {
     "name": "stdout",
     "output_type": "stream",
     "text": [
      "Scooby is a character in that most glorious of cartoons, Sooby Doo\n",
      "Shaggy is a character in that most glorious of cartoons, Sooby Doo\n",
      "Velma is a character in that most glorious of cartoons, Sooby Doo\n",
      "Daphne is a character in that most glorious of cartoons, Sooby Doo\n",
      "Fred is a character in that most glorious of cartoons, Sooby Doo\n"
     ]
    }
   ],
   "source": [
    "for item in [\"Scooby\", \"Shaggy\", \"Velma\", \"Daphne\", \"Fred\"]:\n",
    "    print(item + \" is a character in that most glorious of cartoons, Sooby Doo\")"
   ]
  },
  {
   "cell_type": "code",
   "execution_count": null,
   "metadata": {
    "collapsed": true
   },
   "outputs": [],
   "source": []
  }
 ],
 "metadata": {
  "anaconda-cloud": {},
  "kernelspec": {
   "display_name": "Python [default]",
   "language": "python",
   "name": "python3"
  },
  "language_info": {
   "codemirror_mode": {
    "name": "ipython",
    "version": 3
   },
   "file_extension": ".py",
   "mimetype": "text/x-python",
   "name": "python",
   "nbconvert_exporter": "python",
   "pygments_lexer": "ipython3",
   "version": "3.5.2"
  }
 },
 "nbformat": 4,
 "nbformat_minor": 2
}

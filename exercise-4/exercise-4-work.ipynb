{
 "cells": [
  {
   "cell_type": "code",
   "execution_count": 8,
   "metadata": {
    "collapsed": false
   },
   "outputs": [
    {
     "name": "stdout",
     "output_type": "stream",
     "text": [
      "Liftoff in  10 seconds\n",
      "Liftoff in  9 seconds\n",
      "Liftoff in  8 seconds\n",
      "Liftoff in  7 seconds\n",
      "Liftoff in  6 seconds\n",
      "Liftoff in  5 seconds\n",
      "Liftoff in  4 seconds\n",
      "Liftoff in  3 seconds\n",
      "Liftoff in  2 seconds\n",
      "Liftoff in  1 seconds\n"
     ]
    }
   ],
   "source": [
    "x = 10\n",
    "print(\"Liftoff in \", x, \"seconds\")\n",
    "x = 9\n",
    "print(\"Liftoff in \", x, \"seconds\")\n",
    "x = 8\n",
    "print(\"Liftoff in \", x, \"seconds\")\n",
    "x = 7\n",
    "print(\"Liftoff in \", x, \"seconds\")\n",
    "x = 6\n",
    "print(\"Liftoff in \", x, \"seconds\")\n",
    "x = 5\n",
    "print(\"Liftoff in \", x, \"seconds\")\n",
    "x = 4\n",
    "print(\"Liftoff in \", x, \"seconds\")\n",
    "x = 3\n",
    "print(\"Liftoff in \", x, \"seconds\")\n",
    "x = 2\n",
    "print(\"Liftoff in \", x, \"seconds\")\n",
    "x = 1\n",
    "print(\"Liftoff in \", x, \"seconds\")"
   ]
  },
  {
   "cell_type": "code",
   "execution_count": 11,
   "metadata": {
    "collapsed": false
   },
   "outputs": [
    {
     "name": "stdout",
     "output_type": "stream",
     "text": [
      "204\n"
     ]
    }
   ],
   "source": [
    "a = 1\n",
    "b = 2\n",
    "c = 3\n",
    "d = 4\n",
    "e = 5\n",
    "f = 6\n",
    "g = 7\n",
    "h = 8\n",
    "print(a**2 + b**2 + c**2 + d**2 + e**2 + f**2 + g**2 + h**2)"
   ]
  },
  {
   "cell_type": "code",
   "execution_count": 18,
   "metadata": {
    "collapsed": false
   },
   "outputs": [
    {
     "name": "stdout",
     "output_type": "stream",
     "text": [
      "2\n",
      "3\n",
      "4\n"
     ]
    }
   ],
   "source": [
    "s0 = \"atgtaca\"\n",
    "s1 = \"atttaca\"\n",
    "s2 = \"attttca\"\n",
    "print(s0.count(\"t\"))\n",
    "print(s1.count(\"t\"))\n",
    "print(s2.count(\"t\"))"
   ]
  },
  {
   "cell_type": "code",
   "execution_count": 22,
   "metadata": {
    "collapsed": false
   },
   "outputs": [
    {
     "name": "stdout",
     "output_type": "stream",
     "text": [
      "[1, 4, 9, 16, 25, 36, 49, 64]\n"
     ]
    }
   ],
   "source": [
    "a = 1\n",
    "b = 2\n",
    "c = 3\n",
    "d = 4\n",
    "e = 5\n",
    "f = 6\n",
    "g = 7\n",
    "h = 8\n",
    "print([a**2, b**2, c**2, d**2, e**2, f**2, g**2, h**2])"
   ]
  },
  {
   "cell_type": "code",
   "execution_count": 26,
   "metadata": {
    "collapsed": false
   },
   "outputs": [
    {
     "name": "stdout",
     "output_type": "stream",
     "text": [
      "I had coffee for breakfast\n",
      "it was super yummy!\n",
      "\n",
      "\n",
      "I had bagel for breakfast\n",
      "it was super yummy!\n",
      "\n",
      "\n",
      "I had eggs for breakfast\n",
      "it was super yummy!\n",
      "\n",
      "\n",
      "I had strawberries for breakfast\n",
      "it was super yummy!\n",
      "\n",
      "\n",
      "I had orange juice for breakfast\n",
      "it was super yummy!\n",
      "\n",
      "\n",
      "I had cinnamon roll for breakfast\n",
      "it was super yummy!\n",
      "\n",
      "\n"
     ]
    }
   ],
   "source": [
    "for item in [\"coffee\", \"bagel\", \"eggs\", \"strawberries\", \"orange juice\", \"cinnamon roll\"]:\n",
    "    print(\"I had \" + item + \" for breakfast\")\n",
    "    print(\"it was super yummy!\")\n",
    "    print(\"\\n\")"
   ]
  },
  {
   "cell_type": "code",
   "execution_count": 29,
   "metadata": {
    "collapsed": false
   },
   "outputs": [
    {
     "name": "stdout",
     "output_type": "stream",
     "text": [
      "Liftoff in 10 seconds\n",
      "Liftoff in 9 seconds\n",
      "Liftoff in 8 seconds\n",
      "Liftoff in 7 seconds\n",
      "Liftoff in 6 seconds\n",
      "Liftoff in 5 seconds\n",
      "Liftoff in 4 seconds\n",
      "Liftoff in 3 seconds\n",
      "Liftoff in 2 seconds\n",
      "Liftoff in 1 seconds\n"
     ]
    }
   ],
   "source": [
    "set_to_iterate_over = [10, 9, 8, 7, 6, 5, 4, 3, 2, 1]\n",
    "for variable in set_to_iterate_over:\n",
    "    print(\"Liftoff in \" + str(variable) + \" seconds\")"
   ]
  },
  {
   "cell_type": "code",
   "execution_count": 30,
   "metadata": {
    "collapsed": false
   },
   "outputs": [
    {
     "name": "stdout",
     "output_type": "stream",
     "text": [
      "Liftoff in 10 seconds\n",
      "Liftoff in 9 seconds\n",
      "Liftoff in 8 seconds\n",
      "Liftoff in 7 seconds\n",
      "Liftoff in 6 seconds\n",
      "Liftoff in 5 seconds\n",
      "Liftoff in 4 seconds\n",
      "Liftoff in 3 seconds\n",
      "Liftoff in 2 seconds\n",
      "Liftoff in 1 seconds\n"
     ]
    }
   ],
   "source": [
    "for current_number in list(range(10, 0, -1)):\n",
    "    print(\"Liftoff in \" + str(current_number) + \" seconds\")"
   ]
  },
  {
   "cell_type": "code",
   "execution_count": 39,
   "metadata": {
    "collapsed": false,
    "scrolled": true
   },
   "outputs": [
    {
     "name": "stdout",
     "output_type": "stream",
     "text": [
      "current total is: 1\n",
      "current total is: 5\n",
      "current total is: 14\n",
      "current total is: 30\n",
      "current total is: 55\n",
      "current total is: 91\n",
      "current total is: 140\n",
      "current total is: 204\n",
      "204\n"
     ]
    }
   ],
   "source": [
    "total = 0\n",
    "for current_numbers in (range(1, 9, 1)):\n",
    "    square = current_numbers**2\n",
    "    total = total + square\n",
    "    print(\"current total is: \" + str(total))\n",
    "print(total)"
   ]
  },
  {
   "cell_type": "code",
   "execution_count": 57,
   "metadata": {
    "collapsed": false
   },
   "outputs": [
    {
     "name": "stdout",
     "output_type": "stream",
     "text": [
      "[1, 4, 9, 16, 25, 36, 49, 64]\n"
     ]
    }
   ],
   "source": [
    "list_of_squares = []\n",
    "for number in (range(1, 9, 1)):\n",
    "    square = number**2\n",
    "    list_of_squares.append(square)\n",
    "print(list_of_squares)"
   ]
  },
  {
   "cell_type": "code",
   "execution_count": 59,
   "metadata": {
    "collapsed": false,
    "scrolled": false
   },
   "outputs": [
    {
     "name": "stdout",
     "output_type": "stream",
     "text": [
      "Liftoff in 10 seconds\n",
      "Liftoff in 9 seconds\n",
      "Liftoff in 8 seconds\n",
      "Liftoff in 7 seconds\n",
      "Liftoff in 6 seconds\n",
      "Liftoff in 5 seconds\n",
      "Liftoff in 4 seconds\n",
      "Liftoff in 3 seconds\n",
      "Liftoff in 2 seconds\n",
      "Liftoff in 1 seconds\n"
     ]
    }
   ],
   "source": [
    "current_time = 10\n",
    "while current_time > 0:\n",
    "    print(\"Liftoff in \" + str(current_time) + \" seconds\")\n",
    "    current_time = current_time -1"
   ]
  },
  {
   "cell_type": "code",
   "execution_count": 75,
   "metadata": {
    "collapsed": false,
    "scrolled": true
   },
   "outputs": [
    {
     "name": "stdout",
     "output_type": "stream",
     "text": [
      "[1, 4, 9, 16, 25, 36, 49, 64]\n"
     ]
    }
   ],
   "source": [
    "list_of_squares = []\n",
    "number = 1\n",
    "while number < 9:\n",
    "    square = number**2\n",
    "    list_of_squares.append(square)\n",
    "    number = number + 1\n",
    "print(list_of_squares)"
   ]
  },
  {
   "cell_type": "code",
   "execution_count": null,
   "metadata": {
    "collapsed": true
   },
   "outputs": [],
   "source": []
  }
 ],
 "metadata": {
  "anaconda-cloud": {},
  "kernelspec": {
   "display_name": "Python [default]",
   "language": "python",
   "name": "python3"
  },
  "language_info": {
   "codemirror_mode": {
    "name": "ipython",
    "version": 3
   },
   "file_extension": ".py",
   "mimetype": "text/x-python",
   "name": "python",
   "nbconvert_exporter": "python",
   "pygments_lexer": "ipython3",
   "version": "3.5.2"
  }
 },
 "nbformat": 4,
 "nbformat_minor": 2
}

{
 "cells": [
  {
   "cell_type": "markdown",
   "metadata": {},
   "source": [
    "# Preliminary Questions\n",
    "\n",
    "```\n",
    "    How many fossils are included in the dataset? 2946\n",
    "    How many fossils have been identified to genus-level only? 614\n",
    "    How many to species-level? 2107\n",
    "    How many unique accepted names are part of this dataset? 211\n",
    "    \n",
    "```\n"
   ]
  },
  {
   "cell_type": "markdown",
   "metadata": {},
   "source": [
    "# Part 2\n",
    "\n",
    "```\n",
    "\n",
    "    How can we change the sampling frequency of our PyRate run? -sw 100\n",
    "    What does the -n flag achieve? mcmc generations\n",
    "\n",
    "\n",
    "```"
   ]
  },
  {
   "cell_type": "markdown",
   "metadata": {},
   "source": [
    "# Part 3\n",
    "\n",
    "```\n",
    "\n",
    "1. canid_occ_1_marginal_rates.log: Tab-separated table with the posterior samples of the marginal rates of speciation, extinction, and net diversification, calculated within 1 time unit (typically Myr).\n",
    "\n",
    "\n",
    "2. canid_occ_1_mcmc.log: ab-separated table with the MCMC samples of the posterior, prior, likelihoods of the preservation process and of the birth-death (indicated by PP_lik and BD_lik, respectively), the preservation rate (q_rate), the shape parameter of its gamma-distributed heterogeneity (alpha), the number of sampled rate shifts (k_birth, k_death), the time of origin of the oldest lineage (root_age), the total branch length (tot_length), and the times of speciation and extinction of all taxa in the data set (\\_TS* and \\_TE, respectively). When using the TPP model of preservation, the preservation rates between shifts are indicated as *q_0, q_1, ... q_n (from older to younger).\n",
    "\n",
    "\n",
    "3. canid_occ_1_sum.txt: Text file providing the complete list of settings used in the analysis.\n",
    "\n",
    "\n",
    "```"
   ]
  },
  {
   "cell_type": "markdown",
   "metadata": {},
   "source": [
    "# Homework\n",
    "\n",
    "```\n",
    "a. Describe the changes in Speciation rates across the Canidae lineage. \n",
    "from -50 MA, constant until -30 MA, then decrease to rate of 0.1. this speciation rate remains constant until -10 MA and then increase significantly to 0.3\n",
    "\n",
    "b. Describe the changes in Extinction rates across the Canidae lineage. \n",
    "Extinction rate remains low until Ma = 0, and then spike up to 1.3\n",
    "\n",
    "c. Describe the changes in Diversification rates across the Canidae lineage.\n",
    "Overall diversification rate decreaes. from -50 to -10 Ma, the rate remains over 0 baseline. then close from reaching 0 Ma, the diersification rate decreases to -1.0\n",
    "\n",
    "\n",
    "```\n",
    "\n"
   ]
  },
  {
   "cell_type": "code",
   "execution_count": null,
   "metadata": {
    "collapsed": true
   },
   "outputs": [],
   "source": []
  }
 ],
 "metadata": {
  "anaconda-cloud": {},
  "kernelspec": {
   "display_name": "Python [default]",
   "language": "python",
   "name": "python3"
  },
  "language_info": {
   "codemirror_mode": {
    "name": "ipython",
    "version": 3
   },
   "file_extension": ".py",
   "mimetype": "text/x-python",
   "name": "python",
   "nbconvert_exporter": "python",
   "pygments_lexer": "ipython3",
   "version": "3.5.2"
  }
 },
 "nbformat": 4,
 "nbformat_minor": 2
}

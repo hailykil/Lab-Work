{
 "cells": [
  {
   "cell_type": "markdown",
   "metadata": {},
   "source": [
    "write a python script that will import in this data file from wherever it is currently stored (CSB/unix/data/), and export a csv-formatted data file to the current working directory. \n",
    "\n",
    "The first column of the CSV output should be the name of each unique contig; the second column should be the number of times the sequence of nucleotide sequence AATG appears in that contig. "
   ]
  },
  {
   "cell_type": "code",
   "execution_count": 1,
   "metadata": {
    "collapsed": true
   },
   "outputs": [],
   "source": [
    "in_file = open(\"/home/eeb177-student/Desktop/eeb-177/CSB/unix/data/Marra2014_data.fasta\")"
   ]
  },
  {
   "cell_type": "code",
   "execution_count": 2,
   "metadata": {
    "collapsed": false
   },
   "outputs": [
    {
     "data": {
      "text/plain": [
       "<_io.TextIOWrapper name='/home/eeb177-student/Desktop/eeb-177/CSB/unix/data/Marra2014_data.fasta' mode='r' encoding='UTF-8'>"
      ]
     },
     "execution_count": 2,
     "metadata": {},
     "output_type": "execute_result"
    }
   ],
   "source": [
    "in_file"
   ]
  },
  {
   "cell_type": "code",
   "execution_count": 4,
   "metadata": {
    "collapsed": false
   },
   "outputs": [],
   "source": [
    "all_lines = []\n",
    "fout = open(\"/home/eeb177-student/Desktop/eeb-177/CSB/unix/data/Marra2014_data.fasta\", 'w')\n",
    "with open(\"/home/eeb177-student/Desktop/eeb-177/CSB/unix/data/Marra2014_data.fasta\", \"r\") as f:\n",
    "    for lines in f:\n",
    "        temp = lines.strip().split(\"\\t\")\n",
    "        print(temp)\n",
    "        all_lines.append(temp)\n",
    "        print(temp)\n",
    "        fout.write(str(temp) + \"\\n\")\n",
    "        a = list(temp)\n",
    "        fout.writelines(\">\"+a[0]+\"|\"+a[1]+\"\\n\"+a[2]+\"\\n\")\n",
    "f.close()\n",
    "fout.close()"
   ]
  },
  {
   "cell_type": "code",
   "execution_count": null,
   "metadata": {
    "collapsed": true
   },
   "outputs": [],
   "source": []
  }
 ],
 "metadata": {
  "anaconda-cloud": {},
  "kernelspec": {
   "display_name": "Python [default]",
   "language": "python",
   "name": "python3"
  },
  "language_info": {
   "codemirror_mode": {
    "name": "ipython",
    "version": 3
   },
   "file_extension": ".py",
   "mimetype": "text/x-python",
   "name": "python",
   "nbconvert_exporter": "python",
   "pygments_lexer": "ipython3",
   "version": "3.5.2"
  }
 },
 "nbformat": 4,
 "nbformat_minor": 2
}
